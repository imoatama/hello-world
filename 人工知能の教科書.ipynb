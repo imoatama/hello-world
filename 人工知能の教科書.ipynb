{
  "nbformat": 4,
  "nbformat_minor": 0,
  "metadata": {
    "colab": {
      "name": "人工知能の教科書",
      "provenance": [],
      "authorship_tag": "ABX9TyNRAeumvkYsiJ4HgXrWHxT5",
      "include_colab_link": true
    },
    "kernelspec": {
      "name": "python3",
      "display_name": "Python 3"
    },
    "language_info": {
      "name": "python"
    }
  },
  "cells": [
    {
      "cell_type": "markdown",
      "metadata": {
        "id": "view-in-github",
        "colab_type": "text"
      },
      "source": [
        "<a href=\"https://colab.research.google.com/github/imoatama/hello-world/blob/main/%E4%BA%BA%E5%B7%A5%E7%9F%A5%E8%83%BD%E3%81%AE%E6%95%99%E7%A7%91%E6%9B%B8.ipynb\" target=\"_parent\"><img src=\"https://colab.research.google.com/assets/colab-badge.svg\" alt=\"Open In Colab\"/></a>"
      ]
    },
    {
      "cell_type": "markdown",
      "metadata": {
        "id": "AOCnFpw-8juY"
      },
      "source": [
        "# 2-4-2スクラッチコードセル\n",
        "メニューから「挿入」⇒スクラッチコードセル選択。手軽にコードを試せるセルが画面右に出現します\n",
        "\n",
        "# 2-4-3コードニスペット\n",
        "メニューから「挿入」⇒コードニスペット選択。様々なコードのニスペット（切り貼りして再利用可能なコードを）挿入することができます。\n",
        "\n",
        "\n",
        "*   ファイルの読み書き\n",
        "*   ＷＥＢ関連の機能\n",
        "\n",
        "\n"
      ]
    },
    {
      "cell_type": "code",
      "metadata": {
        "id": "S_T8qY-y-TIB"
      },
      "source": [
        "from google.colab import files\n",
        "\n",
        "with open('example.txt', 'w') as f:\n",
        "  f.write('some content')\n",
        "\n",
        "files.download('example.txt')"
      ],
      "execution_count": null,
      "outputs": []
    },
    {
      "cell_type": "markdown",
      "metadata": {
        "id": "huw0zYgo-ql8"
      },
      "source": [
        "# 2.4.4コードの実行履歴\n",
        "メニューから「表示」⇒コードの実行履歴を選択。コードの実行履歴が見れます\n",
        "\n",
        "# 2.4.5githubとの連携\n"
      ]
    }
  ]
}